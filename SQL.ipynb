{
 "cells": [
  {
   "cell_type": "markdown",
   "id": "cdc88788",
   "metadata": {},
   "source": [
    "# SQL "
   ]
  },
  {
   "cell_type": "markdown",
   "id": "bc48d1ce",
   "metadata": {},
   "source": [
    "## Цель проекта"
   ]
  },
  {
   "cell_type": "markdown",
   "id": "0ab5e871",
   "metadata": {},
   "source": [
    "Проанализировать базу данных сервиса для чтения книг по подписке для формирования нового информационного продукта"
   ]
  },
  {
   "cell_type": "markdown",
   "id": "e1d58604",
   "metadata": {},
   "source": [
    "### 1. Посчитайте, сколько книг вышло после 1 января 2000 года"
   ]
  },
  {
   "cell_type": "code",
   "execution_count": 9,
   "id": "5306155c",
   "metadata": {},
   "outputs": [
    {
     "data": {
      "text/html": [
       "<div>\n",
       "<style scoped>\n",
       "    .dataframe tbody tr th:only-of-type {\n",
       "        vertical-align: middle;\n",
       "    }\n",
       "\n",
       "    .dataframe tbody tr th {\n",
       "        vertical-align: top;\n",
       "    }\n",
       "\n",
       "    .dataframe thead th {\n",
       "        text-align: right;\n",
       "    }\n",
       "</style>\n",
       "<table border=\"1\" class=\"dataframe\">\n",
       "  <thead>\n",
       "    <tr style=\"text-align: right;\">\n",
       "      <th></th>\n",
       "      <th>count</th>\n",
       "    </tr>\n",
       "  </thead>\n",
       "  <tbody>\n",
       "    <tr>\n",
       "      <th>0</th>\n",
       "      <td>821</td>\n",
       "    </tr>\n",
       "  </tbody>\n",
       "</table>\n",
       "</div>"
      ],
      "text/plain": [
       "   count\n",
       "0    821"
      ]
     },
     "execution_count": 9,
     "metadata": {},
     "output_type": "execute_result"
    }
   ],
   "source": [
    "SELECT COUNT(book_id)\n",
    "FROM books\n",
    "WHERE publication_date >='2000-01-01'"
   ]
  },
  {
   "cell_type": "markdown",
   "id": "d1858862",
   "metadata": {},
   "source": [
    "### 2. Для каждой книги посчитайте количество обзоров и среднюю оценку"
   ]
  },
  {
   "cell_type": "code",
   "execution_count": 10,
   "id": "bf636c63",
   "metadata": {
    "scrolled": false
   },
   "outputs": [
    {
     "data": {
      "text/html": [
       "<div>\n",
       "<style scoped>\n",
       "    .dataframe tbody tr th:only-of-type {\n",
       "        vertical-align: middle;\n",
       "    }\n",
       "\n",
       "    .dataframe tbody tr th {\n",
       "        vertical-align: top;\n",
       "    }\n",
       "\n",
       "    .dataframe thead th {\n",
       "        text-align: right;\n",
       "    }\n",
       "</style>\n",
       "<table border=\"1\" class=\"dataframe\">\n",
       "  <thead>\n",
       "    <tr style=\"text-align: right;\">\n",
       "      <th></th>\n",
       "      <th>title</th>\n",
       "      <th>count_review</th>\n",
       "      <th>rating_mean</th>\n",
       "    </tr>\n",
       "  </thead>\n",
       "  <tbody>\n",
       "    <tr>\n",
       "      <th>0</th>\n",
       "      <td>The Count of Monte Cristo</td>\n",
       "      <td>5.0</td>\n",
       "      <td>4.217391</td>\n",
       "    </tr>\n",
       "    <tr>\n",
       "      <th>1</th>\n",
       "      <td>Count Zero (Sprawl  #2)</td>\n",
       "      <td>2.0</td>\n",
       "      <td>2.500000</td>\n",
       "    </tr>\n",
       "    <tr>\n",
       "      <th>2</th>\n",
       "      <td>The Botany of Desire: A Plant's-Eye View of th...</td>\n",
       "      <td>2.0</td>\n",
       "      <td>3.500000</td>\n",
       "    </tr>\n",
       "    <tr>\n",
       "      <th>3</th>\n",
       "      <td>The Poisonwood Bible</td>\n",
       "      <td>5.0</td>\n",
       "      <td>4.363636</td>\n",
       "    </tr>\n",
       "    <tr>\n",
       "      <th>4</th>\n",
       "      <td>The Canterbury Tales</td>\n",
       "      <td>3.0</td>\n",
       "      <td>3.333333</td>\n",
       "    </tr>\n",
       "    <tr>\n",
       "      <th>...</th>\n",
       "      <td>...</td>\n",
       "      <td>...</td>\n",
       "      <td>...</td>\n",
       "    </tr>\n",
       "    <tr>\n",
       "      <th>994</th>\n",
       "      <td>Of Love and Other Demons</td>\n",
       "      <td>2.0</td>\n",
       "      <td>4.500000</td>\n",
       "    </tr>\n",
       "    <tr>\n",
       "      <th>995</th>\n",
       "      <td>In the Heart of the Sea: The Tragedy of the Wh...</td>\n",
       "      <td>3.0</td>\n",
       "      <td>3.333333</td>\n",
       "    </tr>\n",
       "    <tr>\n",
       "      <th>996</th>\n",
       "      <td>Welcome to Temptation (Dempseys  #1)</td>\n",
       "      <td>2.0</td>\n",
       "      <td>5.000000</td>\n",
       "    </tr>\n",
       "    <tr>\n",
       "      <th>997</th>\n",
       "      <td>World's End (The Sandman  #8)</td>\n",
       "      <td>2.0</td>\n",
       "      <td>4.500000</td>\n",
       "    </tr>\n",
       "    <tr>\n",
       "      <th>998</th>\n",
       "      <td>Holes (Holes  #1)</td>\n",
       "      <td>5.0</td>\n",
       "      <td>3.967742</td>\n",
       "    </tr>\n",
       "  </tbody>\n",
       "</table>\n",
       "<p>999 rows × 3 columns</p>\n",
       "</div>"
      ],
      "text/plain": [
       "                                                 title  count_review  \\\n",
       "0                            The Count of Monte Cristo           5.0   \n",
       "1                              Count Zero (Sprawl  #2)           2.0   \n",
       "2    The Botany of Desire: A Plant's-Eye View of th...           2.0   \n",
       "3                                 The Poisonwood Bible           5.0   \n",
       "4                                 The Canterbury Tales           3.0   \n",
       "..                                                 ...           ...   \n",
       "994                           Of Love and Other Demons           2.0   \n",
       "995  In the Heart of the Sea: The Tragedy of the Wh...           3.0   \n",
       "996               Welcome to Temptation (Dempseys  #1)           2.0   \n",
       "997                      World's End (The Sandman  #8)           2.0   \n",
       "998                                  Holes (Holes  #1)           5.0   \n",
       "\n",
       "     rating_mean  \n",
       "0       4.217391  \n",
       "1       2.500000  \n",
       "2       3.500000  \n",
       "3       4.363636  \n",
       "4       3.333333  \n",
       "..           ...  \n",
       "994     4.500000  \n",
       "995     3.333333  \n",
       "996     5.000000  \n",
       "997     4.500000  \n",
       "998     3.967742  \n",
       "\n",
       "[999 rows x 3 columns]"
      ]
     },
     "execution_count": 10,
     "metadata": {},
     "output_type": "execute_result"
    }
   ],
   "source": [
    "SELECT a.title,\n",
    "       b.count_review,\n",
    "       a.rating_mean\n",
    "FROM\n",
    "  (SELECT books.title,\n",
    "          AVG(ratings.rating) AS rating_mean\n",
    "   FROM ratings\n",
    "   LEFT JOIN books ON ratings.book_id = books.book_id\n",
    "   GROUP BY books.title) AS a\n",
    "LEFT JOIN\n",
    "  (SELECT books.title,\n",
    "          COUNT(reviews.review_id) AS count_review\n",
    "   FROM reviews\n",
    "   LEFT JOIN books ON reviews.book_id = books.book_id\n",
    "   GROUP BY books.title) AS b ON (a.title = b.title)"
   ]
  },
  {
   "cell_type": "markdown",
   "id": "a7df5a32",
   "metadata": {},
   "source": [
    "### 3. Определите издательство, которое выпустило наибольшее число книг толще 50 страниц — так вы исключите из анализа брошюры"
   ]
  },
  {
   "cell_type": "code",
   "execution_count": 15,
   "id": "9d21859b",
   "metadata": {},
   "outputs": [
    {
     "data": {
      "text/html": [
       "<div>\n",
       "<style scoped>\n",
       "    .dataframe tbody tr th:only-of-type {\n",
       "        vertical-align: middle;\n",
       "    }\n",
       "\n",
       "    .dataframe tbody tr th {\n",
       "        vertical-align: top;\n",
       "    }\n",
       "\n",
       "    .dataframe thead th {\n",
       "        text-align: right;\n",
       "    }\n",
       "</style>\n",
       "<table border=\"1\" class=\"dataframe\">\n",
       "  <thead>\n",
       "    <tr style=\"text-align: right;\">\n",
       "      <th></th>\n",
       "      <th>publisher</th>\n",
       "      <th>count_book</th>\n",
       "    </tr>\n",
       "  </thead>\n",
       "  <tbody>\n",
       "    <tr>\n",
       "      <th>0</th>\n",
       "      <td>Penguin Books</td>\n",
       "      <td>42</td>\n",
       "    </tr>\n",
       "  </tbody>\n",
       "</table>\n",
       "</div>"
      ],
      "text/plain": [
       "       publisher  count_book\n",
       "0  Penguin Books          42"
      ]
     },
     "execution_count": 15,
     "metadata": {},
     "output_type": "execute_result"
    }
   ],
   "source": [
    "SELECT publishers.publisher,\n",
    "       COUNT(books.book_id) AS count_book\n",
    "FROM publishers\n",
    "LEFT JOIN books ON publishers.publisher_id = books.publisher_id\n",
    "WHERE books.num_pages > 50\n",
    "GROUP BY publishers.publisher\n",
    "ORDER BY count_book DESC"
   ]
  },
  {
   "cell_type": "markdown",
   "id": "21d5ee84",
   "metadata": {},
   "source": [
    "### 4. Определите автора с самой высокой средней оценкой книг — учитывайте только книги с 50 и более оценками"
   ]
  },
  {
   "cell_type": "code",
   "execution_count": 16,
   "id": "a14cbbaf",
   "metadata": {},
   "outputs": [
    {
     "data": {
      "text/html": [
       "<div>\n",
       "<style scoped>\n",
       "    .dataframe tbody tr th:only-of-type {\n",
       "        vertical-align: middle;\n",
       "    }\n",
       "\n",
       "    .dataframe tbody tr th {\n",
       "        vertical-align: top;\n",
       "    }\n",
       "\n",
       "    .dataframe thead th {\n",
       "        text-align: right;\n",
       "    }\n",
       "</style>\n",
       "<table border=\"1\" class=\"dataframe\">\n",
       "  <thead>\n",
       "    <tr style=\"text-align: right;\">\n",
       "      <th></th>\n",
       "      <th>author</th>\n",
       "      <th>avg</th>\n",
       "    </tr>\n",
       "  </thead>\n",
       "  <tbody>\n",
       "    <tr>\n",
       "      <th>0</th>\n",
       "      <td>J.K. Rowling/Mary GrandPré</td>\n",
       "      <td>4.28</td>\n",
       "    </tr>\n",
       "  </tbody>\n",
       "</table>\n",
       "</div>"
      ],
      "text/plain": [
       "                       author   avg\n",
       "0  J.K. Rowling/Mary GrandPré  4.28"
      ]
     },
     "execution_count": 16,
     "metadata": {},
     "output_type": "execute_result"
    }
   ],
   "source": [
    "SELECT a.author,\n",
    "       AVG(book_50.avg_rating)\n",
    "FROM\n",
    "  (SELECT b.book_id,\n",
    "          b.author_id,\n",
    "          AVG(r.rating) AS avg_rating,\n",
    "          COUNT(r.rating_id) AS count_user\n",
    "   FROM books AS b\n",
    "   LEFT JOIN ratings AS r ON b.book_id = r.book_id\n",
    "   GROUP BY b.book_id\n",
    "   HAVING COUNT(r.rating_id)>=50) AS book_50\n",
    "JOIN authors AS a ON book_50.author_id = a.author_id\n",
    "GROUP BY a.author\n",
    "ORDER BY AVG(book_50.avg_rating) DESC"
   ]
  },
  {
   "cell_type": "markdown",
   "id": "bfdbcb88",
   "metadata": {},
   "source": [
    "### 5. Посчитайте среднее количество обзоров от пользователей, которые поставили больше 48 оценок"
   ]
  },
  {
   "cell_type": "code",
   "execution_count": 17,
   "id": "14c5246b",
   "metadata": {},
   "outputs": [
    {
     "data": {
      "text/html": [
       "<div>\n",
       "<style scoped>\n",
       "    .dataframe tbody tr th:only-of-type {\n",
       "        vertical-align: middle;\n",
       "    }\n",
       "\n",
       "    .dataframe tbody tr th {\n",
       "        vertical-align: top;\n",
       "    }\n",
       "\n",
       "    .dataframe thead th {\n",
       "        text-align: right;\n",
       "    }\n",
       "</style>\n",
       "<table border=\"1\" class=\"dataframe\">\n",
       "  <thead>\n",
       "    <tr style=\"text-align: right;\">\n",
       "      <th></th>\n",
       "      <th>avg</th>\n",
       "    </tr>\n",
       "  </thead>\n",
       "  <tbody>\n",
       "    <tr>\n",
       "      <th>0</th>\n",
       "      <td>24.0</td>\n",
       "    </tr>\n",
       "  </tbody>\n",
       "</table>\n",
       "</div>"
      ],
      "text/plain": [
       "    avg\n",
       "0  24.0"
      ]
     },
     "execution_count": 17,
     "metadata": {},
     "output_type": "execute_result"
    }
   ],
   "source": [
    "SELECT AVG(b.reviews_count)\n",
    "FROM\n",
    "  (SELECT ratings.username,\n",
    "          COUNT(ratings.rating_id) AS ratings_count\n",
    "   FROM ratings\n",
    "   GROUP BY ratings.username\n",
    "   HAVING COUNT(ratings.rating_id) > 48) AS a\n",
    "INNER JOIN\n",
    "  (SELECT reviews.username,\n",
    "          COUNT(reviews.review_id) AS reviews_count\n",
    "   FROM reviews\n",
    "   GROUP BY reviews.username) AS b ON (a.username = b.username)"
   ]
  },
  {
   "cell_type": "markdown",
   "id": "77d21cc9",
   "metadata": {},
   "source": [
    "### 6. Выведите таблицу, которая будет содержать по году публикации:\n",
    "- количество издательств,\n",
    "- выпущенных книг и\n",
    "- сколько всего тысяч страниц было в изданных книгах\n",
    "\n",
    "Отобразить нужно только те года, в которых издано более 30 книг."
   ]
  },
  {
   "cell_type": "code",
   "execution_count": 18,
   "id": "4aa39fbc",
   "metadata": {},
   "outputs": [
    {
     "data": {
      "text/html": [
       "<div>\n",
       "<style scoped>\n",
       "    .dataframe tbody tr th:only-of-type {\n",
       "        vertical-align: middle;\n",
       "    }\n",
       "\n",
       "    .dataframe tbody tr th {\n",
       "        vertical-align: top;\n",
       "    }\n",
       "\n",
       "    .dataframe thead th {\n",
       "        text-align: right;\n",
       "    }\n",
       "</style>\n",
       "<table border=\"1\" class=\"dataframe\">\n",
       "  <thead>\n",
       "    <tr style=\"text-align: right;\">\n",
       "      <th></th>\n",
       "      <th>year</th>\n",
       "      <th>publisher_count</th>\n",
       "      <th>book_count</th>\n",
       "      <th>sum_pages</th>\n",
       "    </tr>\n",
       "  </thead>\n",
       "  <tbody>\n",
       "    <tr>\n",
       "      <th>0</th>\n",
       "      <td>2007.0</td>\n",
       "      <td>38</td>\n",
       "      <td>50</td>\n",
       "      <td>18</td>\n",
       "    </tr>\n",
       "    <tr>\n",
       "      <th>1</th>\n",
       "      <td>2006.0</td>\n",
       "      <td>109</td>\n",
       "      <td>184</td>\n",
       "      <td>68</td>\n",
       "    </tr>\n",
       "    <tr>\n",
       "      <th>2</th>\n",
       "      <td>2005.0</td>\n",
       "      <td>89</td>\n",
       "      <td>139</td>\n",
       "      <td>55</td>\n",
       "    </tr>\n",
       "    <tr>\n",
       "      <th>3</th>\n",
       "      <td>2004.0</td>\n",
       "      <td>88</td>\n",
       "      <td>124</td>\n",
       "      <td>46</td>\n",
       "    </tr>\n",
       "    <tr>\n",
       "      <th>4</th>\n",
       "      <td>2003.0</td>\n",
       "      <td>65</td>\n",
       "      <td>105</td>\n",
       "      <td>41</td>\n",
       "    </tr>\n",
       "    <tr>\n",
       "      <th>5</th>\n",
       "      <td>2002.0</td>\n",
       "      <td>62</td>\n",
       "      <td>94</td>\n",
       "      <td>38</td>\n",
       "    </tr>\n",
       "    <tr>\n",
       "      <th>6</th>\n",
       "      <td>2001.0</td>\n",
       "      <td>41</td>\n",
       "      <td>60</td>\n",
       "      <td>21</td>\n",
       "    </tr>\n",
       "    <tr>\n",
       "      <th>7</th>\n",
       "      <td>2000.0</td>\n",
       "      <td>35</td>\n",
       "      <td>38</td>\n",
       "      <td>13</td>\n",
       "    </tr>\n",
       "    <tr>\n",
       "      <th>8</th>\n",
       "      <td>1999.0</td>\n",
       "      <td>26</td>\n",
       "      <td>41</td>\n",
       "      <td>15</td>\n",
       "    </tr>\n",
       "  </tbody>\n",
       "</table>\n",
       "</div>"
      ],
      "text/plain": [
       "     year  publisher_count  book_count  sum_pages\n",
       "0  2007.0               38          50         18\n",
       "1  2006.0              109         184         68\n",
       "2  2005.0               89         139         55\n",
       "3  2004.0               88         124         46\n",
       "4  2003.0               65         105         41\n",
       "5  2002.0               62          94         38\n",
       "6  2001.0               41          60         21\n",
       "7  2000.0               35          38         13\n",
       "8  1999.0               26          41         15"
      ]
     },
     "execution_count": 18,
     "metadata": {},
     "output_type": "execute_result"
    }
   ],
   "source": [
    "SELECT EXTRACT(YEAR FROM publication_date) AS year,\n",
    "       COUNT(DISTINCT publisher_id) as publisher_count,\n",
    "       COUNT(book_id) as book_count,\n",
    "       SUM(num_pages) / 1000 as sum_pages\n",
    "   FROM books\n",
    "   GROUP BY EXTRACT(YEAR FROM publication_date) \n",
    "   HAVING COUNT(book_id) > 30\n",
    "   ORDER BY year DESC"
   ]
  },
  {
   "cell_type": "markdown",
   "id": "e6fc5ea8",
   "metadata": {},
   "source": [
    "### 7. Выведите в одной таблице два числа — среднюю оценку тех книг, на которые написало отзывов более 3 человек, и отдельно среднюю оценку остальных книг, а также сделай выводы какой рейтинг больше."
   ]
  },
  {
   "cell_type": "code",
   "execution_count": 19,
   "id": "cdaa8ac5",
   "metadata": {
    "scrolled": false
   },
   "outputs": [
    {
     "data": {
      "text/html": [
       "<div>\n",
       "<style scoped>\n",
       "    .dataframe tbody tr th:only-of-type {\n",
       "        vertical-align: middle;\n",
       "    }\n",
       "\n",
       "    .dataframe tbody tr th {\n",
       "        vertical-align: top;\n",
       "    }\n",
       "\n",
       "    .dataframe thead th {\n",
       "        text-align: right;\n",
       "    }\n",
       "</style>\n",
       "<table border=\"1\" class=\"dataframe\">\n",
       "  <thead>\n",
       "    <tr style=\"text-align: right;\">\n",
       "      <th></th>\n",
       "      <th>avg_ratings</th>\n",
       "    </tr>\n",
       "  </thead>\n",
       "  <tbody>\n",
       "    <tr>\n",
       "      <th>0</th>\n",
       "      <td>3.95</td>\n",
       "    </tr>\n",
       "    <tr>\n",
       "      <th>1</th>\n",
       "      <td>3.89</td>\n",
       "    </tr>\n",
       "  </tbody>\n",
       "</table>\n",
       "</div>"
      ],
      "text/plain": [
       "   avg_ratings\n",
       "0         3.95\n",
       "1         3.89"
      ]
     },
     "execution_count": 19,
     "metadata": {},
     "output_type": "execute_result"
    }
   ],
   "source": [
    "WITH over_3 AS\n",
    "  (SELECT book_id,\n",
    "          COUNT(DISTINCT username) AS count_user_over_3\n",
    "   FROM reviews\n",
    "   GROUP BY book_id\n",
    "   HAVING COUNT(DISTINCT username) > 3),\n",
    "   \n",
    "     under_3 AS\n",
    "  (SELECT book_id,\n",
    "          COUNT(DISTINCT username) AS count_user_under_3\n",
    "   FROM reviews\n",
    "   GROUP BY book_id\n",
    "   HAVING COUNT(DISTINCT username) <= 3)\n",
    "   \n",
    "SELECT ROUND(AVG(rating), 2) AS avg_ratings\n",
    "FROM over_3\n",
    "LEFT JOIN ratings ON over_3.book_id = ratings.book_id\n",
    "\n",
    "UNION ALL\n",
    "\n",
    "SELECT ROUND(AVG(rating), 2) AS avg_ratings\n",
    "FROM under_3\n",
    "LEFT JOIN ratings ON under_3.book_id = ratings.book_id"
   ]
  }
 ],
 "metadata": {
  "ExecuteTimeLog": [
   {
    "duration": 29187,
    "start_time": "2023-05-19T12:27:55.432Z"
   },
   {
    "duration": 1704,
    "start_time": "2023-05-19T12:28:24.672Z"
   },
   {
    "duration": 411,
    "start_time": "2023-05-19T12:28:26.420Z"
   },
   {
    "duration": 345,
    "start_time": "2023-05-19T12:28:26.860Z"
   },
   {
    "duration": 220,
    "start_time": "2023-05-19T12:28:27.246Z"
   },
   {
    "duration": 377,
    "start_time": "2023-05-19T12:28:27.498Z"
   },
   {
    "duration": 252,
    "start_time": "2023-05-19T12:28:27.929Z"
   },
   {
    "duration": 339,
    "start_time": "2023-05-19T12:28:28.196Z"
   },
   {
    "duration": 273,
    "start_time": "2023-05-19T12:28:28.558Z"
   },
   {
    "duration": 293,
    "start_time": "2023-05-19T12:28:28.859Z"
   },
   {
    "duration": 233,
    "start_time": "2023-05-19T12:28:29.155Z"
   },
   {
    "duration": 264,
    "start_time": "2023-05-19T12:28:29.424Z"
   },
   {
    "duration": 309,
    "start_time": "2023-05-19T12:28:29.705Z"
   },
   {
    "duration": 283,
    "start_time": "2023-05-19T12:28:30.022Z"
   },
   {
    "duration": 262,
    "start_time": "2023-05-19T12:28:30.313Z"
   },
   {
    "duration": 528,
    "start_time": "2023-05-19T17:13:56.145Z"
   },
   {
    "duration": 8139,
    "start_time": "2023-05-19T17:13:59.037Z"
   },
   {
    "duration": 105,
    "start_time": "2023-05-19T17:30:35.635Z"
   },
   {
    "duration": 101,
    "start_time": "2023-05-19T17:30:57.579Z"
   },
   {
    "duration": 172,
    "start_time": "2023-05-19T17:31:09.732Z"
   },
   {
    "duration": 90,
    "start_time": "2023-05-19T17:32:06.395Z"
   },
   {
    "duration": 81,
    "start_time": "2023-05-19T17:32:16.867Z"
   },
   {
    "duration": 65,
    "start_time": "2023-05-19T17:39:18.144Z"
   },
   {
    "duration": 8,
    "start_time": "2023-05-19T17:39:43.228Z"
   },
   {
    "duration": 2,
    "start_time": "2023-05-19T17:40:38.162Z"
   },
   {
    "duration": 504,
    "start_time": "2023-05-19T17:40:44.608Z"
   },
   {
    "duration": 7921,
    "start_time": "2023-05-19T17:40:45.114Z"
   },
   {
    "duration": 51,
    "start_time": "2023-05-19T17:40:53.037Z"
   },
   {
    "duration": 26,
    "start_time": "2023-05-19T17:40:53.090Z"
   },
   {
    "duration": 14,
    "start_time": "2023-05-19T17:40:53.118Z"
   },
   {
    "duration": 14,
    "start_time": "2023-05-19T17:40:53.133Z"
   },
   {
    "duration": 33,
    "start_time": "2023-05-19T17:40:53.148Z"
   },
   {
    "duration": 2,
    "start_time": "2023-05-19T17:40:53.183Z"
   },
   {
    "duration": 18,
    "start_time": "2023-05-19T17:40:53.187Z"
   },
   {
    "duration": 23,
    "start_time": "2023-05-19T17:40:53.208Z"
   },
   {
    "duration": 17,
    "start_time": "2023-05-19T17:40:53.232Z"
   },
   {
    "duration": 16,
    "start_time": "2023-05-19T17:40:53.250Z"
   },
   {
    "duration": 24,
    "start_time": "2023-05-19T17:40:53.268Z"
   },
   {
    "duration": 16,
    "start_time": "2023-05-19T17:40:53.294Z"
   },
   {
    "duration": 12,
    "start_time": "2023-05-19T17:40:53.311Z"
   },
   {
    "duration": 27,
    "start_time": "2023-05-19T17:40:53.325Z"
   },
   {
    "duration": 19,
    "start_time": "2023-05-19T17:40:53.354Z"
   },
   {
    "duration": 180,
    "start_time": "2023-05-19T17:43:59.474Z"
   },
   {
    "duration": 16,
    "start_time": "2023-05-19T17:57:57.115Z"
   },
   {
    "duration": 45,
    "start_time": "2023-05-19T20:02:28.362Z"
   },
   {
    "duration": 434,
    "start_time": "2023-05-19T20:02:35.355Z"
   },
   {
    "duration": 7986,
    "start_time": "2023-05-19T20:02:35.791Z"
   },
   {
    "duration": 88,
    "start_time": "2023-05-19T20:02:43.778Z"
   },
   {
    "duration": 33,
    "start_time": "2023-05-19T20:02:43.868Z"
   },
   {
    "duration": 14,
    "start_time": "2023-05-19T20:02:43.902Z"
   },
   {
    "duration": 14,
    "start_time": "2023-05-19T20:02:43.918Z"
   },
   {
    "duration": 25,
    "start_time": "2023-05-19T20:02:43.934Z"
   },
   {
    "duration": 3,
    "start_time": "2023-05-19T20:02:43.960Z"
   },
   {
    "duration": 21,
    "start_time": "2023-05-19T20:02:43.965Z"
   },
   {
    "duration": 30,
    "start_time": "2023-05-19T20:02:43.989Z"
   },
   {
    "duration": 18,
    "start_time": "2023-05-19T20:02:44.021Z"
   },
   {
    "duration": 15,
    "start_time": "2023-05-19T20:02:44.041Z"
   },
   {
    "duration": 16,
    "start_time": "2023-05-19T20:02:44.058Z"
   },
   {
    "duration": 18,
    "start_time": "2023-05-19T20:02:44.076Z"
   },
   {
    "duration": 14,
    "start_time": "2023-05-19T20:02:44.096Z"
   },
   {
    "duration": 31,
    "start_time": "2023-05-19T20:02:44.111Z"
   },
   {
    "duration": 15,
    "start_time": "2023-05-19T20:02:44.144Z"
   },
   {
    "duration": 158,
    "start_time": "2023-05-19T20:02:44.160Z"
   },
   {
    "duration": 141,
    "start_time": "2023-05-19T20:03:29.983Z"
   },
   {
    "duration": 110,
    "start_time": "2023-05-19T20:05:54.280Z"
   },
   {
    "duration": 88,
    "start_time": "2023-05-19T20:07:35.197Z"
   },
   {
    "duration": 96,
    "start_time": "2023-05-19T20:07:39.976Z"
   },
   {
    "duration": 12,
    "start_time": "2023-05-19T20:08:57.605Z"
   },
   {
    "duration": 111,
    "start_time": "2023-05-19T20:09:20.358Z"
   },
   {
    "duration": 130,
    "start_time": "2023-05-19T20:09:54.462Z"
   },
   {
    "duration": 13,
    "start_time": "2023-05-19T20:10:05.889Z"
   },
   {
    "duration": 15,
    "start_time": "2023-05-19T20:10:17.354Z"
   },
   {
    "duration": 15,
    "start_time": "2023-05-19T20:11:26.661Z"
   },
   {
    "duration": 90,
    "start_time": "2023-05-19T20:13:07.155Z"
   },
   {
    "duration": 15,
    "start_time": "2023-05-19T20:13:21.272Z"
   },
   {
    "duration": 26,
    "start_time": "2023-05-19T20:13:50.911Z"
   },
   {
    "duration": 18,
    "start_time": "2023-05-19T20:15:02.525Z"
   },
   {
    "duration": 92,
    "start_time": "2023-05-19T20:16:12.723Z"
   },
   {
    "duration": 13,
    "start_time": "2023-05-19T20:16:34.688Z"
   },
   {
    "duration": 16,
    "start_time": "2023-05-19T20:19:57.581Z"
   },
   {
    "duration": 15,
    "start_time": "2023-05-19T20:25:44.901Z"
   },
   {
    "duration": 15,
    "start_time": "2023-05-19T20:25:58.163Z"
   },
   {
    "duration": 20,
    "start_time": "2023-05-19T20:27:15.689Z"
   },
   {
    "duration": 90,
    "start_time": "2023-05-19T20:34:28.251Z"
   },
   {
    "duration": 92,
    "start_time": "2023-05-19T20:35:31.590Z"
   },
   {
    "duration": 88,
    "start_time": "2023-05-19T20:36:11.855Z"
   },
   {
    "duration": 19,
    "start_time": "2023-05-19T20:36:46.373Z"
   },
   {
    "duration": 87,
    "start_time": "2023-05-19T20:37:40.875Z"
   },
   {
    "duration": 89,
    "start_time": "2023-05-19T20:37:55.887Z"
   },
   {
    "duration": 110,
    "start_time": "2023-05-19T20:44:33.096Z"
   },
   {
    "duration": 94,
    "start_time": "2023-05-19T20:45:28.660Z"
   },
   {
    "duration": 14,
    "start_time": "2023-05-19T20:46:19.873Z"
   },
   {
    "duration": 14,
    "start_time": "2023-05-19T20:50:21.196Z"
   },
   {
    "duration": 13,
    "start_time": "2023-05-19T20:54:01.842Z"
   },
   {
    "duration": 12,
    "start_time": "2023-05-19T20:54:15.838Z"
   },
   {
    "duration": 12,
    "start_time": "2023-05-19T20:56:43.006Z"
   },
   {
    "duration": 13,
    "start_time": "2023-05-19T20:56:48.208Z"
   },
   {
    "duration": 10,
    "start_time": "2023-05-19T20:57:02.089Z"
   },
   {
    "duration": 12,
    "start_time": "2023-05-19T20:58:37.154Z"
   },
   {
    "duration": 11,
    "start_time": "2023-05-19T20:58:43.948Z"
   },
   {
    "duration": 12,
    "start_time": "2023-05-19T21:01:13.039Z"
   },
   {
    "duration": 14,
    "start_time": "2023-05-19T21:02:49.148Z"
   },
   {
    "duration": 12,
    "start_time": "2023-05-19T21:02:53.439Z"
   },
   {
    "duration": 17,
    "start_time": "2023-05-19T21:03:06.793Z"
   },
   {
    "duration": 12,
    "start_time": "2023-05-19T21:04:10.243Z"
   },
   {
    "duration": 18,
    "start_time": "2023-05-19T21:04:17.447Z"
   },
   {
    "duration": 11,
    "start_time": "2023-05-19T21:04:39.645Z"
   },
   {
    "duration": 49,
    "start_time": "2023-05-19T21:04:43.323Z"
   },
   {
    "duration": 90,
    "start_time": "2023-05-19T21:04:57.746Z"
   },
   {
    "duration": 117,
    "start_time": "2023-05-19T21:05:00.949Z"
   },
   {
    "duration": 130,
    "start_time": "2023-05-19T21:06:34.208Z"
   },
   {
    "duration": 16,
    "start_time": "2023-05-19T21:06:54.101Z"
   },
   {
    "duration": 14,
    "start_time": "2023-05-19T21:07:18.637Z"
   },
   {
    "duration": 12,
    "start_time": "2023-05-19T21:07:43.300Z"
   },
   {
    "duration": 13,
    "start_time": "2023-05-19T21:08:31.378Z"
   },
   {
    "duration": 12,
    "start_time": "2023-05-19T21:08:45.447Z"
   },
   {
    "duration": 13,
    "start_time": "2023-05-19T21:09:24.646Z"
   },
   {
    "duration": 13,
    "start_time": "2023-05-19T21:09:41.455Z"
   },
   {
    "duration": 114,
    "start_time": "2023-05-19T21:10:56.624Z"
   },
   {
    "duration": 91,
    "start_time": "2023-05-19T21:11:09.254Z"
   },
   {
    "duration": 13,
    "start_time": "2023-05-19T21:12:04.145Z"
   },
   {
    "duration": 20,
    "start_time": "2023-05-19T21:17:22.442Z"
   },
   {
    "duration": 86,
    "start_time": "2023-05-19T21:17:58.143Z"
   },
   {
    "duration": 15,
    "start_time": "2023-05-19T21:18:10.756Z"
   },
   {
    "duration": 15,
    "start_time": "2023-05-19T21:18:15.120Z"
   },
   {
    "duration": 91,
    "start_time": "2023-05-19T21:19:24.925Z"
   },
   {
    "duration": 15,
    "start_time": "2023-05-19T21:21:14.293Z"
   },
   {
    "duration": 15,
    "start_time": "2023-05-19T21:21:40.056Z"
   },
   {
    "duration": 16,
    "start_time": "2023-05-19T21:21:55.643Z"
   },
   {
    "duration": 14,
    "start_time": "2023-05-19T21:22:52.298Z"
   },
   {
    "duration": 16,
    "start_time": "2023-05-19T21:23:14.142Z"
   },
   {
    "duration": 15,
    "start_time": "2023-05-19T21:23:23.899Z"
   },
   {
    "duration": 10,
    "start_time": "2023-05-19T21:32:12.618Z"
   },
   {
    "duration": 24,
    "start_time": "2023-05-19T21:32:35.331Z"
   },
   {
    "duration": 14,
    "start_time": "2023-05-19T21:33:05.082Z"
   },
   {
    "duration": 18,
    "start_time": "2023-05-19T21:33:30.714Z"
   },
   {
    "duration": 13,
    "start_time": "2023-05-19T21:34:06.088Z"
   },
   {
    "duration": 129,
    "start_time": "2023-05-19T21:42:47.515Z"
   },
   {
    "duration": 18,
    "start_time": "2023-05-19T21:43:01.630Z"
   },
   {
    "duration": 17,
    "start_time": "2023-05-19T21:43:14.943Z"
   },
   {
    "duration": 113,
    "start_time": "2023-05-19T21:44:14.418Z"
   },
   {
    "duration": 17,
    "start_time": "2023-05-19T21:44:20.372Z"
   },
   {
    "duration": 17,
    "start_time": "2023-05-19T21:44:27.939Z"
   },
   {
    "duration": 19,
    "start_time": "2023-05-19T21:48:07.584Z"
   },
   {
    "duration": 90,
    "start_time": "2023-05-19T21:55:28.416Z"
   },
   {
    "duration": 17,
    "start_time": "2023-05-19T21:55:57.848Z"
   },
   {
    "duration": 113,
    "start_time": "2023-05-19T22:00:39.870Z"
   },
   {
    "duration": 22,
    "start_time": "2023-05-19T22:02:02.446Z"
   },
   {
    "duration": 20,
    "start_time": "2023-05-19T22:02:26.354Z"
   },
   {
    "duration": 95,
    "start_time": "2023-05-19T22:03:04.686Z"
   },
   {
    "duration": 27,
    "start_time": "2023-05-19T22:03:42.021Z"
   },
   {
    "duration": 122,
    "start_time": "2023-05-19T22:05:07.639Z"
   },
   {
    "duration": 26,
    "start_time": "2023-05-19T22:05:38.784Z"
   },
   {
    "duration": 18,
    "start_time": "2023-05-19T22:06:17.910Z"
   },
   {
    "duration": 20,
    "start_time": "2023-05-19T22:06:46.196Z"
   },
   {
    "duration": 21,
    "start_time": "2023-05-19T22:07:00.032Z"
   },
   {
    "duration": 494,
    "start_time": "2023-05-19T22:12:02.130Z"
   },
   {
    "duration": 7392,
    "start_time": "2023-05-19T22:12:02.626Z"
   },
   {
    "duration": 54,
    "start_time": "2023-05-19T22:12:10.020Z"
   },
   {
    "duration": 23,
    "start_time": "2023-05-19T22:12:10.076Z"
   },
   {
    "duration": 12,
    "start_time": "2023-05-19T22:12:10.100Z"
   },
   {
    "duration": 12,
    "start_time": "2023-05-19T22:12:10.113Z"
   },
   {
    "duration": 16,
    "start_time": "2023-05-19T22:12:10.126Z"
   },
   {
    "duration": 2,
    "start_time": "2023-05-19T22:12:10.143Z"
   },
   {
    "duration": 12,
    "start_time": "2023-05-19T22:12:10.146Z"
   },
   {
    "duration": 19,
    "start_time": "2023-05-19T22:12:10.160Z"
   },
   {
    "duration": 13,
    "start_time": "2023-05-19T22:12:10.181Z"
   },
   {
    "duration": 23,
    "start_time": "2023-05-19T22:12:10.196Z"
   },
   {
    "duration": 15,
    "start_time": "2023-05-19T22:12:10.220Z"
   },
   {
    "duration": 15,
    "start_time": "2023-05-19T22:12:10.236Z"
   },
   {
    "duration": 11,
    "start_time": "2023-05-19T22:12:10.252Z"
   },
   {
    "duration": 13,
    "start_time": "2023-05-19T22:12:10.265Z"
   },
   {
    "duration": 12,
    "start_time": "2023-05-19T22:12:10.280Z"
   },
   {
    "duration": 14,
    "start_time": "2023-05-19T22:12:10.293Z"
   },
   {
    "duration": 31,
    "start_time": "2023-05-19T22:12:10.308Z"
   },
   {
    "duration": 485,
    "start_time": "2023-05-20T17:35:13.196Z"
   },
   {
    "duration": 8172,
    "start_time": "2023-05-20T17:35:13.684Z"
   },
   {
    "duration": 81,
    "start_time": "2023-05-20T17:35:21.858Z"
   },
   {
    "duration": 31,
    "start_time": "2023-05-20T17:35:21.941Z"
   },
   {
    "duration": 17,
    "start_time": "2023-05-20T17:35:21.973Z"
   },
   {
    "duration": 16,
    "start_time": "2023-05-20T17:35:21.991Z"
   },
   {
    "duration": 21,
    "start_time": "2023-05-20T17:35:22.009Z"
   },
   {
    "duration": 19,
    "start_time": "2023-05-20T17:35:22.032Z"
   },
   {
    "duration": 12,
    "start_time": "2023-05-20T17:35:22.054Z"
   },
   {
    "duration": 24,
    "start_time": "2023-05-20T17:35:22.068Z"
   },
   {
    "duration": 18,
    "start_time": "2023-05-20T17:35:22.094Z"
   },
   {
    "duration": 19,
    "start_time": "2023-05-20T17:35:22.114Z"
   },
   {
    "duration": 34,
    "start_time": "2023-05-20T17:35:22.135Z"
   },
   {
    "duration": 22,
    "start_time": "2023-05-20T17:35:22.172Z"
   },
   {
    "duration": 19,
    "start_time": "2023-05-20T17:35:22.196Z"
   },
   {
    "duration": 18,
    "start_time": "2023-05-20T17:35:22.216Z"
   },
   {
    "duration": 31,
    "start_time": "2023-05-20T17:35:22.236Z"
   },
   {
    "duration": 20,
    "start_time": "2023-05-20T17:35:22.269Z"
   },
   {
    "duration": 21,
    "start_time": "2023-05-20T17:35:22.291Z"
   },
   {
    "duration": 21,
    "start_time": "2023-05-20T17:40:41.187Z"
   },
   {
    "duration": 23,
    "start_time": "2023-05-20T17:42:41.575Z"
   },
   {
    "duration": 33,
    "start_time": "2023-05-20T17:42:58.613Z"
   },
   {
    "duration": 39,
    "start_time": "2023-05-20T17:43:09.553Z"
   },
   {
    "duration": 24,
    "start_time": "2023-05-20T17:43:22.211Z"
   },
   {
    "duration": 235,
    "start_time": "2023-05-20T17:44:31.464Z"
   },
   {
    "duration": 24,
    "start_time": "2023-05-20T17:44:56.804Z"
   },
   {
    "duration": 142,
    "start_time": "2023-05-20T17:52:52.567Z"
   },
   {
    "duration": 110,
    "start_time": "2023-05-20T17:53:13.697Z"
   },
   {
    "duration": 99,
    "start_time": "2023-05-20T17:53:32.066Z"
   },
   {
    "duration": 102,
    "start_time": "2023-05-20T17:54:16.478Z"
   },
   {
    "duration": 97,
    "start_time": "2023-05-20T17:55:09.504Z"
   },
   {
    "duration": 17,
    "start_time": "2023-05-20T17:56:00.578Z"
   },
   {
    "duration": 24,
    "start_time": "2023-05-20T17:56:09.875Z"
   },
   {
    "duration": 29,
    "start_time": "2023-05-20T17:56:32.466Z"
   },
   {
    "duration": 22,
    "start_time": "2023-05-20T17:57:24.792Z"
   },
   {
    "duration": 34,
    "start_time": "2023-05-20T17:57:50.903Z"
   },
   {
    "duration": 84,
    "start_time": "2023-05-20T17:58:19.093Z"
   },
   {
    "duration": 98,
    "start_time": "2023-05-20T17:59:07.910Z"
   },
   {
    "duration": 18,
    "start_time": "2023-05-20T17:59:24.666Z"
   },
   {
    "duration": 19,
    "start_time": "2023-05-20T17:59:27.623Z"
   },
   {
    "duration": 36,
    "start_time": "2023-05-20T17:59:38.859Z"
   },
   {
    "duration": 18,
    "start_time": "2023-05-20T18:00:46.203Z"
   },
   {
    "duration": 25,
    "start_time": "2023-05-20T18:01:52.415Z"
   },
   {
    "duration": 22,
    "start_time": "2023-05-20T18:02:10.271Z"
   },
   {
    "duration": 20,
    "start_time": "2023-05-20T18:02:16.046Z"
   },
   {
    "duration": 21,
    "start_time": "2023-05-20T18:06:13.762Z"
   },
   {
    "duration": 24,
    "start_time": "2023-05-20T18:06:34.958Z"
   },
   {
    "duration": 20,
    "start_time": "2023-05-20T18:11:47.182Z"
   },
   {
    "duration": 22,
    "start_time": "2023-05-20T18:12:30.162Z"
   },
   {
    "duration": 44,
    "start_time": "2023-05-21T08:10:34.713Z"
   },
   {
    "duration": 539,
    "start_time": "2023-05-21T08:10:43.955Z"
   },
   {
    "duration": 7761,
    "start_time": "2023-05-21T08:10:44.496Z"
   },
   {
    "duration": 95,
    "start_time": "2023-05-21T08:10:52.259Z"
   },
   {
    "duration": 26,
    "start_time": "2023-05-21T08:10:52.355Z"
   },
   {
    "duration": 13,
    "start_time": "2023-05-21T08:10:52.382Z"
   },
   {
    "duration": 11,
    "start_time": "2023-05-21T08:10:52.397Z"
   },
   {
    "duration": 18,
    "start_time": "2023-05-21T08:10:52.410Z"
   },
   {
    "duration": 2,
    "start_time": "2023-05-21T08:10:52.429Z"
   },
   {
    "duration": 30,
    "start_time": "2023-05-21T08:10:52.433Z"
   },
   {
    "duration": 23,
    "start_time": "2023-05-21T08:10:52.465Z"
   },
   {
    "duration": 16,
    "start_time": "2023-05-21T08:10:52.489Z"
   },
   {
    "duration": 16,
    "start_time": "2023-05-21T08:10:52.507Z"
   },
   {
    "duration": 16,
    "start_time": "2023-05-21T08:10:52.525Z"
   },
   {
    "duration": 15,
    "start_time": "2023-05-21T08:10:52.543Z"
   },
   {
    "duration": 10,
    "start_time": "2023-05-21T08:10:52.560Z"
   },
   {
    "duration": 14,
    "start_time": "2023-05-21T08:10:52.572Z"
   },
   {
    "duration": 23,
    "start_time": "2023-05-21T08:10:52.587Z"
   },
   {
    "duration": 15,
    "start_time": "2023-05-21T08:10:52.611Z"
   },
   {
    "duration": 153,
    "start_time": "2023-05-21T08:10:52.628Z"
   },
   {
    "duration": 19,
    "start_time": "2023-05-21T08:11:45.134Z"
   },
   {
    "duration": 18,
    "start_time": "2023-05-21T08:15:56.454Z"
   },
   {
    "duration": 29,
    "start_time": "2023-05-21T08:23:45.707Z"
   },
   {
    "duration": 14,
    "start_time": "2023-05-21T08:25:29.650Z"
   },
   {
    "duration": 19,
    "start_time": "2023-05-21T08:27:35.796Z"
   },
   {
    "duration": 106,
    "start_time": "2023-05-21T08:30:30.107Z"
   },
   {
    "duration": 118,
    "start_time": "2023-05-21T08:31:05.658Z"
   },
   {
    "duration": 104,
    "start_time": "2023-05-21T08:31:28.707Z"
   },
   {
    "duration": 20,
    "start_time": "2023-05-21T08:32:11.888Z"
   },
   {
    "duration": 19,
    "start_time": "2023-05-21T08:32:20.127Z"
   },
   {
    "duration": 20,
    "start_time": "2023-05-21T08:32:44.453Z"
   },
   {
    "duration": 19,
    "start_time": "2023-05-21T08:33:04.207Z"
   },
   {
    "duration": 19,
    "start_time": "2023-05-21T08:33:53.606Z"
   },
   {
    "duration": 19,
    "start_time": "2023-05-21T08:37:00.662Z"
   },
   {
    "duration": 90,
    "start_time": "2023-05-21T08:37:57.281Z"
   },
   {
    "duration": 18,
    "start_time": "2023-05-21T08:38:19.062Z"
   },
   {
    "duration": 19,
    "start_time": "2023-05-21T08:38:25.548Z"
   },
   {
    "duration": 97,
    "start_time": "2023-05-21T08:39:42.907Z"
   },
   {
    "duration": 22,
    "start_time": "2023-05-21T08:43:31.388Z"
   },
   {
    "duration": 113,
    "start_time": "2023-05-21T08:44:00.869Z"
   },
   {
    "duration": 22,
    "start_time": "2023-05-21T08:44:12.866Z"
   },
   {
    "duration": 18,
    "start_time": "2023-05-21T08:46:34.290Z"
   },
   {
    "duration": 94,
    "start_time": "2023-05-21T08:48:49.362Z"
   },
   {
    "duration": 22,
    "start_time": "2023-05-21T08:48:59.527Z"
   },
   {
    "duration": 20,
    "start_time": "2023-05-21T08:49:50.528Z"
   },
   {
    "duration": 114,
    "start_time": "2023-05-21T08:52:30.127Z"
   },
   {
    "duration": 90,
    "start_time": "2023-05-21T08:52:50.769Z"
   },
   {
    "duration": 103,
    "start_time": "2023-05-21T08:57:26.227Z"
   },
   {
    "duration": 123,
    "start_time": "2023-05-21T09:00:27.774Z"
   },
   {
    "duration": 32,
    "start_time": "2023-05-21T09:01:13.569Z"
   },
   {
    "duration": 18,
    "start_time": "2023-05-21T09:02:22.988Z"
   },
   {
    "duration": 121,
    "start_time": "2023-05-21T09:29:48.169Z"
   },
   {
    "duration": 25,
    "start_time": "2023-05-21T09:29:53.488Z"
   },
   {
    "duration": 540,
    "start_time": "2023-05-21T09:43:16.770Z"
   },
   {
    "duration": 9214,
    "start_time": "2023-05-21T09:43:17.312Z"
   },
   {
    "duration": 58,
    "start_time": "2023-05-21T09:43:26.528Z"
   },
   {
    "duration": 46,
    "start_time": "2023-05-21T09:43:26.588Z"
   },
   {
    "duration": 16,
    "start_time": "2023-05-21T09:43:26.636Z"
   },
   {
    "duration": 24,
    "start_time": "2023-05-21T09:43:26.654Z"
   },
   {
    "duration": 29,
    "start_time": "2023-05-21T09:43:26.684Z"
   },
   {
    "duration": 3,
    "start_time": "2023-05-21T09:43:26.715Z"
   },
   {
    "duration": 18,
    "start_time": "2023-05-21T09:43:26.720Z"
   },
   {
    "duration": 55,
    "start_time": "2023-05-21T09:43:26.741Z"
   },
   {
    "duration": 28,
    "start_time": "2023-05-21T09:43:26.797Z"
   },
   {
    "duration": 27,
    "start_time": "2023-05-21T09:43:26.827Z"
   },
   {
    "duration": 58,
    "start_time": "2023-05-21T09:43:26.855Z"
   },
   {
    "duration": 19,
    "start_time": "2023-05-21T09:43:26.915Z"
   },
   {
    "duration": 11,
    "start_time": "2023-05-21T09:43:26.936Z"
   },
   {
    "duration": 19,
    "start_time": "2023-05-21T09:43:26.949Z"
   },
   {
    "duration": 33,
    "start_time": "2023-05-21T09:43:26.969Z"
   },
   {
    "duration": 14,
    "start_time": "2023-05-21T09:43:27.003Z"
   },
   {
    "duration": 18,
    "start_time": "2023-05-21T09:43:27.018Z"
   },
   {
    "duration": 278,
    "start_time": "2023-05-21T09:43:27.038Z"
   }
  ],
  "kernelspec": {
   "display_name": "Python 3 (ipykernel)",
   "language": "python",
   "name": "python3"
  },
  "language_info": {
   "codemirror_mode": {
    "name": "ipython",
    "version": 3
   },
   "file_extension": ".py",
   "mimetype": "text/x-python",
   "name": "python",
   "nbconvert_exporter": "python",
   "pygments_lexer": "ipython3",
   "version": "3.9.13"
  },
  "toc": {
   "base_numbering": 1,
   "nav_menu": {},
   "number_sections": true,
   "sideBar": true,
   "skip_h1_title": true,
   "title_cell": "Table of Contents",
   "title_sidebar": "Contents",
   "toc_cell": false,
   "toc_position": {
    "height": "calc(100% - 180px)",
    "left": "10px",
    "top": "150px",
    "width": "165px"
   },
   "toc_section_display": true,
   "toc_window_display": true
  }
 },
 "nbformat": 4,
 "nbformat_minor": 5
}
